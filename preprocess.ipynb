{
  "nbformat": 4,
  "nbformat_minor": 0,
  "metadata": {
    "colab": {
      "name": "preprocess.ipynb",
      "version": "0.3.2",
      "provenance": [],
      "collapsed_sections": []
    },
    "kernelspec": {
      "name": "python3",
      "display_name": "Python 3"
    }
  },
  "cells": [
    {
      "metadata": {
        "id": "m66q74TH_Qwv",
        "colab_type": "code",
        "colab": {}
      },
      "cell_type": "code",
      "source": [
        "#!kill -9 -1"
      ],
      "execution_count": 0,
      "outputs": []
    },
    {
      "metadata": {
        "id": "sMeaOWpXcjXr",
        "colab_type": "code",
        "outputId": "d4c2806e-fb07-4e7c-831a-2a7b0359a384",
        "colab": {
          "base_uri": "https://localhost:8080/",
          "height": 34
        }
      },
      "cell_type": "code",
      "source": [
        "from google.colab import drive\n",
        "drive.mount('/content/gdrive')"
      ],
      "execution_count": 0,
      "outputs": [
        {
          "output_type": "stream",
          "text": [
            "Drive already mounted at /content/gdrive; to attempt to forcibly remount, call drive.mount(\"/content/gdrive\", force_remount=True).\n"
          ],
          "name": "stdout"
        }
      ]
    },
    {
      "metadata": {
        "colab_type": "code",
        "id": "PzTyniMhry0U",
        "colab": {}
      },
      "cell_type": "code",
      "source": [
        "import os\n",
        "os.chdir('/content/gdrive/My Drive/s2vt')"
      ],
      "execution_count": 0,
      "outputs": []
    },
    {
      "metadata": {
        "id": "R5qatn-QeIo0",
        "colab_type": "code",
        "outputId": "8aa4f79f-5984-4af1-daaa-c0008acaab9c",
        "colab": {
          "base_uri": "https://localhost:8080/",
          "height": 153
        }
      },
      "cell_type": "code",
      "source": [
        "!apt install caffe-cpu\n"
      ],
      "execution_count": 0,
      "outputs": [
        {
          "output_type": "stream",
          "text": [
            "Reading package lists... Done\n",
            "Building dependency tree       \n",
            "Reading state information... Done\n",
            "caffe-cpu is already the newest version (1.0.0-6).\n",
            "The following package was automatically installed and is no longer required:\n",
            "  libnvidia-common-410\n",
            "Use 'apt autoremove' to remove it.\n",
            "0 upgraded, 0 newly installed, 0 to remove and 6 not upgraded.\n"
          ],
          "name": "stdout"
        }
      ]
    },
    {
      "metadata": {
        "id": "7BsdX3s0s-7R",
        "colab_type": "code",
        "outputId": "9ddf7dcf-cc55-47ec-95ad-197371eb49eb",
        "colab": {
          "base_uri": "https://localhost:8080/",
          "height": 34
        }
      },
      "cell_type": "code",
      "source": [
        "cd \n"
      ],
      "execution_count": 0,
      "outputs": [
        {
          "output_type": "stream",
          "text": [
            "/root\n"
          ],
          "name": "stdout"
        }
      ]
    },
    {
      "metadata": {
        "colab_type": "code",
        "id": "TfZvQLIYryud",
        "outputId": "9531873a-0859-48c7-f235-b1fd64f876b3",
        "colab": {
          "base_uri": "https://localhost:8080/",
          "height": 34
        }
      },
      "cell_type": "code",
      "source": [
        "pwd"
      ],
      "execution_count": 0,
      "outputs": [
        {
          "output_type": "execute_result",
          "data": {
            "text/plain": [
              "'/root'"
            ]
          },
          "metadata": {
            "tags": []
          },
          "execution_count": 9
        }
      ]
    },
    {
      "metadata": {
        "id": "wpa1fBFusNDZ",
        "colab_type": "text"
      },
      "cell_type": "markdown",
      "source": [
        "caffe installations"
      ]
    },
    {
      "metadata": {
        "colab_type": "code",
        "id": "jaJMB6TPrypw",
        "colab": {}
      },
      "cell_type": "code",
      "source": [
        "with open('/etc/apt/sources.list') as f:\n",
        "  txt = f.read()\n",
        "with open('/etc/apt/sources.list.backup', 'w') as f:\n",
        "  f.write(txt)\n",
        "with open('/etc/apt/sources.list', 'w') as f:\n",
        "  f.write(txt.replace('# deb-src','deb-src'))"
      ],
      "execution_count": 0,
      "outputs": []
    },
    {
      "metadata": {
        "colab_type": "code",
        "id": "91j4LXq_rymX",
        "colab": {}
      },
      "cell_type": "code",
      "source": [
        "!apt update\n",
        "!apt build-dep caffe-cuda\n",
        "!apt install g++-5"
      ],
      "execution_count": 0,
      "outputs": []
    },
    {
      "metadata": {
        "colab_type": "code",
        "id": "EgV0WyAnryeW",
        "colab": {}
      },
      "cell_type": "code",
      "source": [
        "!wget https://dl.bintray.com/boostorg/release/1.67.0/source/boost_1_67_0.tar.bz2\n",
        "!tar --bzip2 -xf boost_1_67_0.tar.bz2\n",
        "#!tar xjvf ~/boost_1_67_0.tar.bz2"
      ],
      "execution_count": 0,
      "outputs": []
    },
    {
      "metadata": {
        "colab_type": "code",
        "id": "F7FKOT_9ryUf",
        "colab": {}
      },
      "cell_type": "code",
      "source": [
        "!update-alternatives --remove-all gcc \n",
        "!update-alternatives --remove-all g++\n",
        "\n",
        "!update-alternatives --install /usr/bin/gcc gcc /usr/bin/gcc-5 20\n",
        "!update-alternatives --install /usr/bin/g++ g++ /usr/bin/g++-5 20\n",
        "\n",
        "!update-alternatives --install /usr/bin/cc cc /usr/bin/gcc 30\n",
        "!update-alternatives --set cc /usr/bin/gcc\n",
        "\n",
        "!update-alternatives --install /usr/bin/c++ c++ /usr/bin/g++ 30\n",
        "!update-alternatives --set c++ /usr/bin/g++"
      ],
      "execution_count": 0,
      "outputs": []
    },
    {
      "metadata": {
        "id": "2zxrubgjYC0g",
        "colab_type": "code",
        "outputId": "fb2ccccc-f627-48a2-c34d-68b24fe068ec",
        "colab": {
          "base_uri": "https://localhost:8080/",
          "height": 51
        }
      },
      "cell_type": "code",
      "source": [
        "import sys \n",
        "print(sys.version)"
      ],
      "execution_count": 0,
      "outputs": [
        {
          "output_type": "stream",
          "text": [
            "3.6.7 (default, Oct 22 2018, 11:32:17) \n",
            "[GCC 8.2.0]\n"
          ],
          "name": "stdout"
        }
      ]
    },
    {
      "metadata": {
        "colab_type": "code",
        "id": "nnLypYQzryPF",
        "colab": {}
      },
      "cell_type": "code",
      "source": [
        "!cd boost_1_67_0 && ./bootstrap.sh --exec-prefix=/usr/local --with-libraries=system,filesystem,regex,thread,python \\\n",
        "--with-python-version=3.6.7 --with-python-root=/usr\n",
        "!cd boost_1_67_0 && ./b2 install"
      ],
      "execution_count": 0,
      "outputs": []
    },
    {
      "metadata": {
        "colab_type": "code",
        "id": "TDILouEDryE4",
        "colab": {}
      },
      "cell_type": "code",
      "source": [
        "!git clone https://github.com/BVLC/caffe.git && cd caffe "
      ],
      "execution_count": 0,
      "outputs": []
    },
    {
      "metadata": {
        "colab_type": "code",
        "id": "9U4aIpGFrx_e",
        "colab": {}
      },
      "cell_type": "code",
      "source": [
        "with open('caffe/Makefile.config.example') as f:\n",
        "  config = f.read()\n",
        "  \n",
        "comment = ['CUDA_DIR := /usr/local/cuda', \n",
        "           'BLAS := open']\n",
        "uncomment = ['# CUDA_DIR := /usr', \n",
        "             '# BLAS := atlas', \n",
        "             '# OPENCV_VERSION := 3', '# WITH_PYTHON_LAYER := 1'] #\n",
        "replace = [('INCLUDE_DIRS := $(PYTHON_INCLUDE) /usr/local/include',\n",
        "            'INCLUDE_DIRS := $(PYTHON_INCLUDE) /usr/local/include /usr/include/hdf5/serial /usr/local/lib/python2.7/dist-packages/numpy/core/include/'), \n",
        "           ('LIBRARY_DIRS := $(PYTHON_LIB) /usr/local/lib /usr/lib',\n",
        "            'LIBRARY_DIRS := $(PYTHON_LIB) /usr/local/lib /usr/lib /usr/lib/x86_64-linux-gnu/hdf5/serial')]\n",
        "\n",
        "for c in uncomment:\n",
        "  config = config.replace(c, c[2:])\n",
        "for c in comment:\n",
        "  config = config.replace(c, '# '+c)\n",
        "for c1,c2 in replace:\n",
        "  config = config.replace(c1, c2)\n",
        "  \n",
        "with open('caffe/Makefile.config', 'w') as f:\n",
        "  f.write(config)"
      ],
      "execution_count": 0,
      "outputs": []
    },
    {
      "metadata": {
        "colab_type": "code",
        "id": "FzEe6INErx6x",
        "colab": {}
      },
      "cell_type": "code",
      "source": [
        "with open('caffe/Makefile') as f:\n",
        "  mfile = f.read()\n",
        "  \n",
        "with open('caffe/Makefile.backup', 'w') as f:\n",
        "  f.write(mfile)\n",
        "  \n",
        "with open('caffe/Makefile', 'w') as f:\n",
        "  f.write(mfile.replace('-isystem','-I'))"
      ],
      "execution_count": 0,
      "outputs": []
    },
    {
      "metadata": {
        "colab_type": "code",
        "id": "hOD_l96Hrx1U",
        "colab": {}
      },
      "cell_type": "code",
      "source": [
        "with open('/usr/include/x86_64-linux-gnu/c++/5/bits/c++config.h') as f:\n",
        "  txt = f.read()\n",
        "with open('/usr/include/x86_64-linux-gnu/c++/5/bits/c++config.h', 'w') as f:\n",
        "  f.write(txt.replace('/* #undef _GLIBCXX_USE_C99_MATH */',\n",
        "                      '/* #undef _GLIBCXX_USE_C99_MATH */\\n#define  _GLIBCXX_USE_C99_MATH  1'))"
      ],
      "execution_count": 0,
      "outputs": []
    },
    {
      "metadata": {
        "colab_type": "code",
        "id": "_gXgnbAWrxv0",
        "outputId": "881b754b-87a5-4d1b-8d4d-6b889ac1e823",
        "colab": {
          "base_uri": "https://localhost:8080/",
          "height": 527
        }
      },
      "cell_type": "code",
      "source": [
        "!cd caffe && make -j8 && make pycaffe && make test -j8 && make distribute\n"
      ],
      "execution_count": 0,
      "outputs": [
        {
          "output_type": "stream",
          "text": [
            "PROTOC src/caffe/proto/caffe.proto\n",
            "NVCC src/caffe/util/math_functions.cu\n",
            "NVCC src/caffe/solvers/nesterov_solver.cu\n",
            "NVCC src/caffe/solvers/sgd_solver.cu\n",
            "NVCC src/caffe/solvers/adadelta_solver.cu\n",
            "make: /usr/bin/nvcc: Command not found\n",
            "NVCC src/caffe/solvers/rmsprop_solver.cu\n",
            "Makefile:604: recipe for target '.build_release/cuda/src/caffe/util/math_functions.o' failed\n",
            "make: *** [.build_release/cuda/src/caffe/util/math_functions.o] Error 127\n",
            "make: *** Waiting for unfinished jobs....\n",
            "NVCC src/caffe/solvers/adam_solver.cu\n",
            "make: /usr/bin/nvcc: Command not found\n",
            "Makefile:604: recipe for target '.build_release/cuda/src/caffe/solvers/adadelta_solver.o' failed\n",
            "make: *** [.build_release/cuda/src/caffe/solvers/adadelta_solver.o] Error 127\n",
            "make: /usr/bin/nvcc: Command not found\n",
            "NVCC src/caffe/util/im2col.cu\n",
            "Makefile:604: recipe for target '.build_release/cuda/src/caffe/solvers/sgd_solver.o' failed\n",
            "make: *** [.build_release/cuda/src/caffe/solvers/sgd_solver.o] Error 127\n",
            "make: /usr/bin/nvcc: Command not found\n",
            "make: /usr/bin/nvcc: Command not found\n",
            "Makefile:604: recipe for target '.build_release/cuda/src/caffe/solvers/adam_solver.o' failed\n",
            "make: *** [.build_release/cuda/src/caffe/solvers/adam_solver.o] Error 127\n",
            "Makefile:604: recipe for target '.build_release/cuda/src/caffe/solvers/nesterov_solver.o' failed\n",
            "make: *** [.build_release/cuda/src/caffe/solvers/nesterov_solver.o] Error 127\n",
            "make: /usr/bin/nvcc: Command not found\n",
            "make: /usr/bin/nvcc: Command not found\n",
            "Makefile:604: recipe for target '.build_release/cuda/src/caffe/util/im2col.o' failed\n",
            "make: *** [.build_release/cuda/src/caffe/util/im2col.o] Error 127\n",
            "Makefile:604: recipe for target '.build_release/cuda/src/caffe/solvers/rmsprop_solver.o' failed\n",
            "make: *** [.build_release/cuda/src/caffe/solvers/rmsprop_solver.o] Error 127\n"
          ],
          "name": "stdout"
        }
      ]
    },
    {
      "metadata": {
        "colab_type": "code",
        "id": "HXD-IEpvrxq7",
        "colab": {}
      },
      "cell_type": "code",
      "source": [
        "!echo /usr/local/lib >> /etc/ld.so.conf && ldconfig\n",
        "!echo /content/caffe/distribute/lib >> /etc/ld.so.conf && ldconfig"
      ],
      "execution_count": 0,
      "outputs": []
    },
    {
      "metadata": {
        "colab_type": "code",
        "id": "Mok71kigrxlt",
        "outputId": "74093abd-a649-41f0-eb5f-2fe07963690d",
        "colab": {
          "base_uri": "https://localhost:8080/",
          "height": 275
        }
      },
      "cell_type": "code",
      "source": [
        "pip install ipdb"
      ],
      "execution_count": 0,
      "outputs": [
        {
          "output_type": "stream",
          "text": [
            "Requirement already satisfied: ipdb in /usr/local/lib/python3.6/dist-packages (0.12)\n",
            "Requirement already satisfied: setuptools in /usr/local/lib/python3.6/dist-packages (from ipdb) (40.9.0)\n",
            "Requirement already satisfied: ipython>=5.1.0; python_version >= \"3.4\" in /usr/local/lib/python3.6/dist-packages (from ipdb) (5.5.0)\n",
            "Requirement already satisfied: pexpect; sys_platform != \"win32\" in /usr/local/lib/python3.6/dist-packages (from ipython>=5.1.0; python_version >= \"3.4\"->ipdb) (4.7.0)\n",
            "Requirement already satisfied: pygments in /usr/local/lib/python3.6/dist-packages (from ipython>=5.1.0; python_version >= \"3.4\"->ipdb) (2.1.3)\n",
            "Requirement already satisfied: traitlets>=4.2 in /usr/local/lib/python3.6/dist-packages (from ipython>=5.1.0; python_version >= \"3.4\"->ipdb) (4.3.2)\n",
            "Requirement already satisfied: prompt-toolkit<2.0.0,>=1.0.4 in /usr/local/lib/python3.6/dist-packages (from ipython>=5.1.0; python_version >= \"3.4\"->ipdb) (1.0.15)\n",
            "Requirement already satisfied: decorator in /usr/local/lib/python3.6/dist-packages (from ipython>=5.1.0; python_version >= \"3.4\"->ipdb) (4.4.0)\n",
            "Requirement already satisfied: pickleshare in /usr/local/lib/python3.6/dist-packages (from ipython>=5.1.0; python_version >= \"3.4\"->ipdb) (0.7.5)\n",
            "Requirement already satisfied: simplegeneric>0.8 in /usr/local/lib/python3.6/dist-packages (from ipython>=5.1.0; python_version >= \"3.4\"->ipdb) (0.8.1)\n",
            "Requirement already satisfied: ptyprocess>=0.5 in /usr/local/lib/python3.6/dist-packages (from pexpect; sys_platform != \"win32\"->ipython>=5.1.0; python_version >= \"3.4\"->ipdb) (0.6.0)\n",
            "Requirement already satisfied: six in /usr/local/lib/python3.6/dist-packages (from traitlets>=4.2->ipython>=5.1.0; python_version >= \"3.4\"->ipdb) (1.11.0)\n",
            "Requirement already satisfied: ipython-genutils in /usr/local/lib/python3.6/dist-packages (from traitlets>=4.2->ipython>=5.1.0; python_version >= \"3.4\"->ipdb) (0.2.0)\n",
            "Requirement already satisfied: wcwidth in /usr/local/lib/python3.6/dist-packages (from prompt-toolkit<2.0.0,>=1.0.4->ipython>=5.1.0; python_version >= \"3.4\"->ipdb) (0.1.7)\n"
          ],
          "name": "stdout"
        }
      ]
    },
    {
      "metadata": {
        "id": "unfpUwgLsSux",
        "colab_type": "code",
        "colab": {}
      },
      "cell_type": "code",
      "source": [
        "import sys\n",
        "sys.path.insert(0,'/content/gdrive/My Drive/s2vt/caffe/python')\n",
        "#sys.path.insert(0,\"/path/to/caffe/python\")\n",
        "#sys.path.insert(0, caffe_path[0])  \n",
        "import caffe"
      ],
      "execution_count": 0,
      "outputs": []
    },
    {
      "metadata": {
        "colab_type": "code",
        "id": "dDvHBUAGrxZf",
        "outputId": "e0b690a5-8897-4fc4-c050-6f426b3e13e9",
        "colab": {
          "base_uri": "https://localhost:8080/",
          "height": 34
        }
      },
      "cell_type": "code",
      "source": [
        "cd"
      ],
      "execution_count": 0,
      "outputs": [
        {
          "output_type": "stream",
          "text": [
            "/root\n"
          ],
          "name": "stdout"
        }
      ]
    },
    {
      "metadata": {
        "id": "jFI7nU_HsWhH",
        "colab_type": "code",
        "colab": {}
      },
      "cell_type": "code",
      "source": [
        "\n",
        "import ipdb\n",
        "import cv2\n",
        "import numpy as np\n",
        "import skimage\n",
        "\n",
        "\n",
        "deploy = '/content/gdrive/My Drive/s2vt/VGG_ILSVRC_19_layers_deploy.prototxt'\n",
        "model = '/content/gdrive/My Drive/s2vt/VGG_ILSVRC_19_layers.caffemodel'\n",
        "mean = '/content/gdrive/My Drive/s2vt/ilsvrc_2012_mean.npy'\n",
        "\n",
        "class CNN(object):\n",
        "    import caffe\n",
        "    def __init__(self, deploy=deploy, model=model, mean=mean, batch_size=10, width=227, height=227):\n",
        "\n",
        "        self.deploy = deploy\n",
        "        self.model = model\n",
        "        self.mean = mean\n",
        "\n",
        "        self.batch_size = batch_size\n",
        "        self.net, self.transformer = self.get_net()\n",
        "        self.net.blobs['data'].reshape(self.batch_size, 3, height, width)\n",
        "\n",
        "        self.width = width\n",
        "        self.height = height\n",
        "\n",
        "    def get_net(self):\n",
        "        caffe.set_mode_cpu()\n",
        "        net = caffe.Net(self.deploy, self.model, caffe.TEST)\n",
        "\n",
        "        transformer = caffe.io.Transformer({'data':net.blobs['data'].data.shape})\n",
        "        transformer.set_transpose('data', (2,0,1))\n",
        "        transformer.set_mean('data', np.load(self.mean).mean(1).mean(1))\n",
        "        transformer.set_raw_scale('data', 255)\n",
        "        transformer.set_channel_swap('data', (2,1,0))\n",
        "\n",
        "        return net, transformer\n",
        "\n",
        "    def get_features(self, image_list, layers='fc7', layer_sizes=[4096]):\n",
        "        iter_until = len(image_list) + self.batch_size\n",
        "        all_feats = np.zeros([len(image_list)] + layer_sizes)\n",
        "\n",
        "        for start, end in zip(range(0, iter_until, self.batch_size), \\\n",
        "                              range(self.batch_size, iter_until, self.batch_size)):\n",
        "\n",
        "            image_batch = image_list[start:end]\n",
        "\n",
        "            caffe_in = np.zeros(np.array(image_batch.shape)[[0,3,1,2]], dtype=np.float32)\n",
        "\n",
        "            for idx, in_ in enumerate(image_batch):\n",
        "                caffe_in[idx] = self.transformer.preprocess('data', in_)\n",
        "\n",
        "            out = self.net.forward_all(blobs=[layers], **{'data':caffe_in})\n",
        "            feats = out[layers]\n",
        "\n",
        "            all_feats[start:end] = feats\n",
        "\n",
        "        return all_feats\n"
      ],
      "execution_count": 0,
      "outputs": []
    },
    {
      "metadata": {
        "id": "7CLkhNazcPW7",
        "colab_type": "code",
        "colab": {}
      },
      "cell_type": "code",
      "source": [
        "import cv2\n",
        "import os\n",
        "import ipdb\n",
        "import numpy as np\n",
        "import pandas as pd\n",
        "import skimage\n",
        "\n",
        "#from cnn_util import *"
      ],
      "execution_count": 0,
      "outputs": []
    },
    {
      "metadata": {
        "id": "w0wbTD_McU0Q",
        "colab_type": "code",
        "colab": {}
      },
      "cell_type": "code",
      "source": [
        "def preprocess_frame(image, target_height=224, target_width=224):\n",
        "\n",
        "    if len(image.shape) == 2:\n",
        "        image = np.tile(image[:,:,None], 3)\n",
        "    elif len(image.shape) == 4:\n",
        "        image = image[:,:,:,0]\n",
        "\n",
        "    image = skimage.img_as_float(image).astype(np.float32)\n",
        "    height, width, rgb = image.shape\n",
        "    if width == height:\n",
        "        resized_image = cv2.resize(image, (target_height,target_width))\n",
        "\n",
        "    elif height < width:\n",
        "        resized_image = cv2.resize(image, (int(width * float(target_height)/height), target_width))\n",
        "        cropping_length = int((resized_image.shape[1] - target_height) / 2)\n",
        "        resized_image = resized_image[:,cropping_length:resized_image.shape[1] - cropping_length]\n",
        "\n",
        "    else:\n",
        "        resized_image = cv2.resize(image, (target_height, int(height * float(target_width) / width)))\n",
        "        cropping_length = int((resized_image.shape[0] - target_width) / 2)\n",
        "        resized_image = resized_image[cropping_length:resized_image.shape[0] - cropping_length,:]\n",
        "\n",
        "    return cv2.resize(resized_image, (target_height, target_width))"
      ],
      "execution_count": 0,
      "outputs": []
    },
    {
      "metadata": {
        "id": "xNQwC2CetEu1",
        "colab_type": "code",
        "colab": {}
      },
      "cell_type": "code",
      "source": [
        "def main():\n",
        "    import caffe\n",
        "    num_frames = 80\n",
        "\n",
        "    vgg_deploy = '/content/gdrive/My Drive/s2vt/VGG_ILSVRC_19_layers_deploy.prototxt'\n",
        "    vgg_model = '/content/gdrive/My Drive/s2vt/VGG_ILSVRC_19_layers.caffemodel'\n",
        "\n",
        "    video_path = '/content/gdrive/My Drive/s2vt/youtube_videos'\n",
        "    video_save_path = '/content/gdrive/My Drive/s2vt/youtube_feats'\n",
        "    videos = os.listdir(video_path)\n",
        "    videos = filter(lambda x: x.endswith('avi'), videos)\n",
        "\n",
        "    cnn = CNN(model=vgg_model, deploy=vgg_deploy, width=224, height=224)\n",
        "\n",
        "    for idx, video in enumerate(videos):\n",
        "        print( idx+1, video)\n",
        "\n",
        "        if os.path.exists( os.path.join(video_save_path, video) ):\n",
        "            print (\"Already processed ... \")\n",
        "            continue\n",
        "\n",
        "        video_fullpath = os.path.join(video_path, video)\n",
        "        try:\n",
        "            cap  = cv2.VideoCapture( video_fullpath )\n",
        "        except:\n",
        "            pass\n",
        "\n",
        "        frame_count = 0\n",
        "        frame_list = []\n",
        "\n",
        "        while True:\n",
        "            ret, frame = cap.read()\n",
        "            if ret is False:\n",
        "                break\n",
        "\n",
        "            frame_list.append(frame)\n",
        "            frame_count += 1\n",
        "\n",
        "        frame_list = np.array(frame_list)\n",
        "\n",
        "        if frame_count > 80:\n",
        "            frame_indices = np.linspace(0, frame_count, num=num_frames, endpoint=False).astype(int)\n",
        "            frame_list = frame_list[frame_indices]\n",
        "\n",
        "        cropped_frame_list = np.array(list(map(lambda x: preprocess_frame(x), frame_list)))\n",
        "        feats = cnn.get_features(cropped_frame_list)\n",
        "\n",
        "        save_full_path = os.path.join(video_save_path, video + '.npy')\n",
        "        np.save(save_full_path, feats)\n"
      ],
      "execution_count": 0,
      "outputs": []
    },
    {
      "metadata": {
        "id": "jCDml-THtekT",
        "colab_type": "code",
        "outputId": "c80681ff-19fd-427d-8bfd-b3df5c57f0ce",
        "colab": {
          "base_uri": "https://localhost:8080/",
          "height": 2788
        }
      },
      "cell_type": "code",
      "source": [
        "import os\n",
        "if __name__==\"__main__\":\n",
        "    main()\n"
      ],
      "execution_count": 0,
      "outputs": [
        {
          "output_type": "stream",
          "text": [
            "1 0lh_UWF9ZP4_71_77.avi\n",
            "2 0lh_UWF9ZP4_103_110.avi\n",
            "3 0lh_UWF9ZP4_79_82.avi\n",
            "4 0k1Ak8aTMVI_4_12.avi\n",
            "5 _6OTzzK7t9Y_158_170.avi\n",
            "6 0hyZ__3YhZc_598_603.avi\n",
            "7 0IDJG0q9j_k_1_24.avi\n",
            "8 0lh_UWF9ZP4_50_60.avi\n",
            "9 0I4VKj4d0WI_24_40.avi\n",
            "10 0lh_UWF9ZP4_38_46.avi\n",
            "11 _txL575S_OA_13_23.avi\n",
            "12 0lh_UWF9ZP4_27_31.avi\n",
            "13 _QJbjKkfdcs_52_57.avi\n",
            "14 0hyZ__3YhZc_279_283.avi\n",
            "15 _O9kWD8nuRU_77_81.avi\n",
            "16 0hyZ__3YhZc_352_356.avi\n",
            "17 0lh_UWF9ZP4_21_26.avi\n",
            "18 _xf24TYgbuY_14_20.avi\n",
            "19 00jrXRMlZOY_0_10.avi\n",
            "20 _6OTzzK7t9Y_73_78.avi\n",
            "21 _UqnTFs1BLc_23_27.avi\n",
            "22 _ZwwKOzpt2I_69_76.avi\n",
            "23 _pBeOAMjGm8_1_18.avi\n",
            "24 _pj2Nutu5v8_1_8.avi\n",
            "25 -_hbPLsZvvo_323_328.avi\n",
            "26 -_aaMGK6GGw_57_61.avi\n",
            "27 _o1UXSxTjfo_68_80.avi\n",
            "28 _9iG5Ge01PM_3_11.avi\n",
            "29 _0nX-El-ySo_83_93.avi\n",
            "30 _JVxurtGIhI_32_42.avi\n",
            "31 _O9kWD8nuRU_45_49.avi\n",
            "32 _1vy2HIN60A_32_40.avi\n",
            "33 -_hbPLsZvvo_5_8.avi\n",
            "34 _KMoC6ZdeXs_10_16.avi\n",
            "35 -_hbPLsZvvo_49_55.avi\n",
            "36 _7nP9z6T9m8_11_17.avi\n",
            "37 _OBlgSz8sSM_15_32.avi\n",
            "38 _O9kWD8nuRU_25_35.avi\n",
            "39 3mbBbFH9fAg_21_29.avi\n",
            "40 -_hbPLsZvvo_288_305.avi\n",
            "41 3OPQqH3YlHA_50_54.avi\n",
            "42 3SKyc0aKx70_46_52.avi\n",
            "43 3n_Kqak2JdA_48_71.avi\n",
            "44 3I9tSDU-OSk_17_22.avi\n",
            "45 2F9jX7u5nOg_83_97.avi\n",
            "46 3FnUTQMJVXI_31_36.avi\n",
            "47 2YhDTpzxd3c_115_120.avi\n",
            "48 3ftaoFnhTyY_140_150.avi\n",
            "49 -_hbPLsZvvo_269_275.avi\n",
            "50 3doK4FQM5-k_46_57.avi\n",
            "51 _JorUS-8Nlg_63_73.avi\n",
            "52 2YhDTpzxd3c_102_105.avi\n",
            "53 2YhDTpzxd3c_240_245.avi\n",
            "54 3eqFFRSXwGE_84_96.avi\n",
            "55 3opDcpPxllE_50_66.avi\n",
            "56 2YhDTpzxd3c_174_180.avi\n",
            "57 3_51FhosiVY_93_101.avi\n",
            "58 3chNlP5TeO8_0_10.avi\n",
            "59 2YhDTpzxd3c_149_154.avi\n",
            "60 1qV4wfjTYIo_151_164.avi\n",
            "61 2mUMTFnQWaw_1_9.avi\n",
            "62 0vmoZEaN_-o_4_12.avi\n",
            "63 1Sp2__RCT0c_11_15.avi\n",
            "64 2YhDTpzxd3c_223_232.avi\n",
            "65 2MCpA01Sn_c_75_82.avi\n",
            "66 2xpIT0L4GqE_1_10.avi\n",
            "67 -_hbPLsZvvo_43_55.avi\n",
            "68 2Nn2CAeaI5k_72_77.avi\n",
            "69 2R_OAYQIkXM_14_22.avi\n",
            "70 2YhDTpzxd3c_166_170.avi\n",
            "71 2LgrGHWSy6k_122_135.avi\n",
            "72 2YhDTpzxd3c_98_101.avi\n",
            "73 2L4oELbX8Ms_1_12.avi\n",
            "74 2YhDTpzxd3c_22_27.avi\n",
            "75 2KrdBUFeFtY_22_27.avi\n",
            "76 02Z-kuB3IaM_2_13.avi\n",
            "77 2YhDTpzxd3c_45_49.avi\n",
            "78 2FLsMPsywRc_45_63.avi\n",
            "79 2jkExrrm_sQ_19_25.avi\n",
            "80 2HpZvL-_fiY_40_44.avi\n",
            "81 -_hbPLsZvvo_211_219.avi\n",
            "82 0sUL0KCIc48_15_25.avi\n",
            "83 2G9fkvBzzQE_10_20.avi\n",
            "84 1pw5ZdRhiig_50_59.avi\n",
            "85 1mIyMRPV8kg_9_17.avi\n",
            "86 1rECrfrdNTo_200_207.avi\n",
            "87 1RchFBCT9JU_43_53.avi\n",
            "88 -_hbPLsZvvo_172_179.avi\n",
            "89 1QVn0FffExM_14_24.avi\n",
            "90 1qU-kF-km1Q_6_16.avi\n",
            "91 1kYWws89W3Y_0_5.avi\n",
            "92 1TjqADyYyxI_36_45.avi\n",
            "93 1dYpcVv6n3Y_0_18.avi\n",
            "94 0wutCy2ZGOQ_4_10.avi\n",
            "95 1_6V30igzIk_5_15.avi\n",
            "96 1dA1RQgPN3c_72_82.avi\n",
            "97 1hPxGmTGarM_9_19.avi\n",
            "98 -_hbPLsZvvo_19_26.avi\n",
            "99 0lh_UWF9ZP4_183_190.avi\n",
            "100 0lh_UWF9ZP4_215_226.avi\n",
            "101 0SMOK2ql7Pg_5_12.avi\n",
            "102 0lh_UWF9ZP4_157_160.avi\n",
            "103 -_hbPLsZvvo_19_25.avi\n",
            "104 0M-PyX2DbZc_25_31.avi\n",
            "105 0ONJfp95yoE_1_10.avi\n",
            "106 0lh_UWF9ZP4_191_197.avi\n",
            "107 0lh_UWF9ZP4_174_178.avi\n",
            "108 0lh_UWF9ZP4_94_103.avi\n",
            "109 0lh_UWF9ZP4_199_207.avi\n",
            "110 0lh_UWF9ZP4_178_182.avi\n",
            "111 0lh_UWF9ZP4_148_155.avi\n",
            "112 0lh_UWF9ZP4_82_87.avi\n",
            "113 -_hbPLsZvvo_18_25.avi\n",
            "114 0lh_UWF9ZP4_165_170.avi\n",
            "115 0lh_UWF9ZP4_62_69.avi\n",
            "116 0lh_UWF9ZP4_138_145.avi\n",
            "117 _yUiusXxfWI_150_165.avi\n",
            "118 0bSz70pYAP0_5_15.avi\n",
            "119 _WRC7HXBJpU_451_464.avi\n",
            "120 _WRC7HXBJpU_414_425.avi\n",
            "121 _WRC7HXBJpU_395_401.avi\n",
            "122 _WRC7HXBJpU_386_391.avi\n",
            "123 _SNE2MYAotU_41_49.avi\n",
            "124 _sJ_09Mf1HY_49_72.avi\n",
            "125 _WRC7HXBJpU_360_370.avi\n",
            "126 _O9kWD8nuRU_50_56.avi\n",
            "127 _O9kWD8nuRU_70_76.avi\n",
            "128 _O9kWD8nuRU_37_43.avi\n",
            "129 _O9kWD8nuRU_16_23.avi\n",
            "130 0hyZ__3YhZc_562_568.avi\n",
            "131 0piwbTivpDg_10_40.avi\n",
            "132 0hyZ__3YhZc_632_637.avi\n",
            "133 0hyZ__3YhZc_575_580.avi\n",
            "134 0hyZ__3YhZc_380_384.avi\n",
            "135 0hyZ__3YhZc_388_394.avi\n",
            "136 0hyZ__3YhZc_341_348.avi\n",
            "137 0hyZ__3YhZc_418_424.avi\n",
            "138 0hyZ__3YhZc_289_295.avi\n",
            "139 0hyZ__3YhZc_485_490.avi\n",
            "140 0hyZ__3YhZc_364_370.avi\n",
            "141 0hyZ__3YhZc_410_417.avi\n",
            "142 0hyZ__3YhZc_302_307.avi\n",
            "143 0GXq1An3yHI_22_35.avi\n",
            "144 2jXxtQRy47A_30_38.avi\n",
            "145 1qxMJLkHDLw_0_9.avi\n",
            "146 1sffYOXq4Iw_23_49.avi\n",
            "147 1dfR0A_BXjw_524_532.avi\n",
            "148 1N_Ic2pBM1o_2_23.avi\n",
            "149 1Dty_eGY9Ec_123_133.avi\n",
            "150 1dfR0A_BXjw_545_560.avi\n",
            "151 1dfR0A_BXjw_441_448.avi\n",
            "152 1dfR0A_BXjw_590_600.avi\n",
            "153 0vmoZEaN_-o_5_21.avi\n",
            "154 1dfR0A_BXjw_401_408.avi\n",
            "155 0RWJEOScToE_414_421.avi\n",
            "156 0xx13BuvVmo_25_36.avi\n",
            "157 0NPtAv3_uVI_46_54.avi\n",
            "158 3ytUOoa1SBE_12_23.avi\n",
            "159 3lBHYoI5V8s_30_45.avi\n",
            "160 3qqEKTPxLNs_1_15.avi\n",
            "161 2I20ZTFHheg_96_104.avi\n",
            "162 2F9jX7u5nOg_114_130.avi\n",
            "163 Yh2N6ZtRBdU_110_120.avi\n"
          ],
          "name": "stdout"
        }
      ]
    }
  ]
}